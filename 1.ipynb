{
  "nbformat": 4,
  "nbformat_minor": 0,
  "metadata": {
    "colab": {
      "provenance": []
    },
    "kernelspec": {
      "name": "python3",
      "display_name": "Python 3"
    },
    "language_info": {
      "name": "python"
    }
  },
  "cells": [
    {
      "cell_type": "code",
      "execution_count": 1,
      "metadata": {
        "colab": {
          "base_uri": "https://localhost:8080/"
        },
        "id": "u1LMnSq8lkPv",
        "outputId": "2e51dee0-694c-4fad-c9f4-97ceedf50ff2"
      },
      "outputs": [
        {
          "output_type": "stream",
          "name": "stdout",
          "text": [
            "Type of list1: <class 'list'>\n",
            "Type of array1: <class 'numpy.ndarray'>\n",
            "Multiplication Result: [ 6 14 24 36 50]\n",
            "Division Result: [6.         3.5        2.66666667 2.25       2.        ]\n",
            "Power Off Result: [ 1  4  9 16 25]\n",
            "Addition of Two: [1 2 3 4 5] + [ 6  7  8  9 10] = [ 7  9 11 13 15]\n",
            "Sin values: [ 0.84147098  0.90929743  0.14112001 -0.7568025  -0.95892427]\n",
            "Log values: [0.         0.69314718 1.09861229 1.38629436 1.60943791]\n",
            "Log2 values: [0.         1.         1.5849625  2.         2.32192809]\n",
            "Exponential values: [  2.71828183   7.3890561   20.08553692  54.59815003 148.4131591 ]\n"
          ]
        }
      ],
      "source": [
        "import numpy as np\n",
        "import pandas as pd\n",
        "list1 = [1, 2, 3, 4, 5]\n",
        "list2 = [6, 7, 8, 9, 10]\n",
        "array1 = np.array(list1)\n",
        "array2 = np.array(list2)\n",
        "print(\"Type of list1:\", type(list1))\n",
        "print(\"Type of array1:\", type(array1))\n",
        "result_multiply = array1 * array2\n",
        "print(\"Multiplication Result:\", result_multiply)\n",
        "result_divide = array2 / array1\n",
        "print(\"Division Result:\", result_divide)\n",
        "result_power = array1 ** 2\n",
        "print(\"Power Off Result:\", result_power)\n",
        "text_output = f\"Addition of Two: {array1} + {array2} = {array1 + array2}\"\n",
        "print(text_output)\n",
        "sin_values = np.sin(array1)\n",
        "log_values = np.log(array1)\n",
        "log2_values = np.log2(array1)\n",
        "exp_values = np.exp(array1)\n",
        "print(\"Sin values:\", sin_values)\n",
        "print(\"Log values:\", log_values)\n",
        "print(\"Log2 values:\", log2_values)\n",
        "print(\"Exponential values:\", exp_values)\n"
      ]
    }
  ]
}